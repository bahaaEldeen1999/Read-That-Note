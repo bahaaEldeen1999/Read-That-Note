{
 "cells": [
  {
   "cell_type": "code",
   "execution_count": 12,
   "metadata": {},
   "outputs": [
    {
     "output_type": "stream",
     "name": "stdout",
     "text": [
      "126 images has not features in training_set\n",
      "36 images has not features in test_set\n",
      "training_set shape (6463, 7936)  test_set shape= (1614, 7936)\n",
      "\n",
      "accuracy=61.21437422552665%\n"
     ]
    }
   ],
   "source": [
    "from commonfunctions import *\n",
    "import skimage as sk \n",
    "import numpy as np\n",
    "import matplotlib as mp\n",
    "import scipy as sp\n",
    "from ipywidgets import interact, interactive, fixed, interact_manual\n",
    "import ipywidgets as widgets\n",
    "import cv2 as cv\n",
    "from sklearn.svm import LinearSVC\n",
    "from sklearn.model_selection import train_test_split\n",
    "import os\n",
    "\n",
    "# 1-read small dataset\n",
    "# 2-apply sift to each img\n",
    "# 3-pad imgs with zeros to equalize size overall\n",
    "# 4-train SVM\n",
    "# 5-test and get accuracy\n",
    " \n",
    "sift = cv.SIFT_create()\n",
    "traget_img_size = (40,40)\n",
    "dataset_path = r'dataset/'\n",
    "max_size=0\n",
    "random_seed = 42\n",
    "model = LinearSVC(random_state=random_seed)\n",
    "\n",
    "def load_dataset(img_names,traget_img_size,max_size,istest=False):\n",
    "    temp,x,y,count = [],[],[],0\n",
    "\n",
    "    for img_name in img_names:\n",
    "        img = io.imread('{}{}/{}'.format(dataset_path,img_name.split('-')[0],img_name))\n",
    "        img = cv.resize(img,traget_img_size)\n",
    "\n",
    "        kp,descriptor = sift.detectAndCompute(img,None)\n",
    "        if len(kp):\n",
    "            if not istest:\n",
    "                max_size = max(max_size,descriptor.shape[0]*descriptor.shape[1])\n",
    "            temp.append(descriptor)\n",
    "            y.append(img_name.split('-')[0])\n",
    "        else:\n",
    "            count+=1\n",
    "\n",
    "    for desc in temp:\n",
    "        desc = (desc.flatten()).flatten()\n",
    "        desc = np.pad(desc,(0,max_size-min(max_size,desc.shape[0])))\n",
    "        x.append(desc)\n",
    "    \n",
    "    print(\"{} images has not features in {}\".format(count, \"test_set\" if istest else \"training_set\"))\n",
    "    if istest:\n",
    "        return np.array(x),np.array(y)\n",
    "    else:\n",
    "        return np.array(x),np.array(y),max_size\n",
    "\n",
    "train_x,train_y,test_x,test_y=np.array([]),np.array([]),np.array([]),np.array([])\n",
    "\n",
    "for category in range(11):\n",
    "    ls = os.listdir(dataset_path+str(category))\n",
    "    x,y = train_test_split(ls,test_size=0.2,shuffle=True)\n",
    "    train_x = np.append(train_x,x)\n",
    "    test_x = np.append(test_x,y)\n",
    "\n",
    "train_x,train_y,max_size = load_dataset(train_x, traget_img_size, 0, False)\n",
    "test_x,test_y = load_dataset(test_x, traget_img_size, max_size, True)\n",
    "\n",
    "print(\"training_set shape\",train_x.shape,\" test_set shape=\",test_x.shape)\n",
    "\n",
    "model = model.fit(train_x,train_y)\n",
    "print(\"\")\n",
    "accuracy = model.score(test_x,test_y)\n",
    "print(\"accuracy={}%\".format(accuracy*100.0))"
   ]
  },
  {
   "cell_type": "code",
   "execution_count": null,
   "metadata": {},
   "outputs": [],
   "source": []
  }
 ],
 "metadata": {
  "kernelspec": {
   "display_name": "Python 3.8.3 64-bit ('base': conda)",
   "language": "python",
   "name": "python38364bitbaseconda3c3175bcd2084ae1bcb835d8a511b4c8"
  },
  "language_info": {
   "codemirror_mode": {
    "name": "ipython",
    "version": 3
   },
   "file_extension": ".py",
   "mimetype": "text/x-python",
   "name": "python",
   "nbconvert_exporter": "python",
   "pygments_lexer": "ipython3",
   "version": "3.8.3-final"
  }
 },
 "nbformat": 4,
 "nbformat_minor": 4
}