{
 "cells": [
  {
   "cell_type": "code",
   "execution_count": 68,
   "metadata": {},
   "outputs": [],
   "source": [
    "import os\n",
    "from glob import glob\n",
    "import numpy as np\n",
    "import cv2\n",
    "from sklearn.cluster import KMeans\n",
    "import scipy.spatial.distance as distance\n",
    "from sklearn.neighbors import KNeighborsClassifier\n",
    "from commonfunctions import *\n",
    "from sklearn.model_selection import cross_val_score\n",
    "from sklearn.model_selection import train_test_split\n",
    "\n",
    "\n",
    "def get_image_paths(data_path, categories):\n",
    "    \n",
    "    train_image_paths = []\n",
    "    train_labels = []\n",
    "    \n",
    "\n",
    "    for category in categories:\n",
    "        num_train_per_cat = sum(len(files) for _, _, files in os.walk(\"Notes/\"+category))\n",
    "        print(num_train_per_cat)\n",
    "\n",
    "        image_paths = glob(os.path.join(data_path, category, '*.*'))\n",
    "        for i in range(num_train_per_cat):\n",
    "            train_image_paths.append(image_paths[i])\n",
    "            train_labels.append(category)\n",
    "\n",
    "    return train_image_paths,train_labels"
   ]
  },
  {
   "cell_type": "code",
   "execution_count": 69,
   "metadata": {},
   "outputs": [],
   "source": [
    "def build_vocabulary(image_paths, vocab_size): \n",
    "    bag_of_features = []\n",
    "    print(\"Extract SIFT features\")\n",
    "    for path in image_paths:\n",
    "        img = cv2.imread(path)\n",
    "        img =cv2.cvtColor(img,cv2.COLOR_BGR2GRAY)\n",
    "#        img = cv2.resize(img, target_img_size)\n",
    "        sift = cv2.SIFT_create()\n",
    "        kp,descriptors = sift.detectAndCompute(img,None)\n",
    "        if(np.array(descriptors).ndim==0):\n",
    "            descriptors=np.array([np.zeros(128).astype(np.float)])\n",
    "\n",
    "        descriptors=np.array(descriptors).astype(np.float)\n",
    "        bag_of_features.append(descriptors)\n",
    "#    print(bag_of_features)\n",
    "    bag_of_features = np.concatenate(bag_of_features, axis=0)\n",
    "    vocab = KMeans(n_clusters=vocab_size,random_state=0).fit(bag_of_features)        \n",
    "    \n",
    "    return vocab"
   ]
  },
  {
   "cell_type": "code",
   "execution_count": 70,
   "metadata": {},
   "outputs": [],
   "source": [
    "from scipy.spatial import distance\n",
    "import pickle\n",
    "import scipy.spatial.distance as distance\n",
    "def get_features(image_paths,vocab):\n",
    "    image_features=[]\n",
    "    for path in image_paths:\n",
    "        img = cv2.imread(path)\n",
    "        img =cv2.cvtColor(img,cv2.COLOR_BGR2GRAY)\n",
    "        img = cv2.resize(img, target_img_size)\n",
    "        sift = cv2.SIFT_create()\n",
    "        kp,descriptors = sift.detectAndCompute(img,None)\n",
    " #       dist = distance.pdist(vocab, descriptors, metric='euclidean')\n",
    " #       idx = np.argmin(dist, axis=0)\n",
    "        if(np.array(descriptors).ndim==0):\n",
    "            descriptors=np.array([np.zeros(128).astype(np.float)])\n",
    "        descriptors=np.array(descriptors).astype(np.float)    \n",
    "        predict_vocab=vocab.predict(descriptors)\n",
    "        hist, bin_edges = np.histogram(predict_vocab, bins=256)\n",
    "        hist_norm = [float(i)/sum(hist) for i in hist]\n",
    "        \n",
    "        image_features.append(hist_norm)\n",
    "        \n",
    "    image_features = np.asarray(image_features)\n",
    "    \n",
    "    return image_features"
   ]
  },
  {
   "cell_type": "code",
   "execution_count": 73,
   "metadata": {},
   "outputs": [
    {
     "name": "stdout",
     "output_type": "stream",
     "text": [
      "1000\n",
      "1000\n",
      "1000\n",
      "1000\n",
      "1000\n",
      "Extract SIFT features\n",
      "image_features\n"
     ]
    },
    {
     "data": {
      "text/plain": [
       "KNeighborsClassifier()"
      ]
     },
     "execution_count": 73,
     "metadata": {},
     "output_type": "execute_result"
    }
   ],
   "source": [
    "data_path=r'Notes'\n",
    "categories=[\"Eight\",\"Half\",\"Quarter\",\"Sixteenth\",\"Whole\"]\n",
    "num_train_per_cat=1000\n",
    "target_img_size = (100,100)\n",
    "vocab_size=25\n",
    "train_image_paths,train_labels=get_image_paths(data_path, categories)\n",
    "\n",
    "x_train, x_test, y_train, y_test = train_test_split(train_image_paths,train_labels, test_size=100, random_state=10)\n",
    "#print(y_train)\n",
    "#print(train_labels)\n",
    "vocab=build_vocabulary(x_train,vocab_size)\n",
    "#print(vocab)\n",
    "image_features=get_features(x_train,vocab)\n",
    "print(\"image_features\")\n",
    "#print(image_features)\n",
    "knn=KNeighborsClassifier(n_neighbors=5)\n",
    "knn.fit(image_features,y_train)"
   ]
  },
  {
   "cell_type": "code",
   "execution_count": 74,
   "metadata": {},
   "outputs": [
    {
     "name": "stdout",
     "output_type": "stream",
     "text": [
      "['Eight' 'Whole' 'Quarter' 'Quarter' 'Half' 'Eight' 'Eight' 'Eight'\n",
      " 'Sixteenth' 'Eight' 'Whole' 'Sixteenth' 'Eight' 'Sixteenth' 'Half'\n",
      " 'Whole' 'Eight' 'Sixteenth' 'Half' 'Eight' 'Whole' 'Sixteenth' 'Whole'\n",
      " 'Half' 'Half' 'Quarter' 'Whole' 'Sixteenth' 'Quarter' 'Half' 'Sixteenth'\n",
      " 'Eight' 'Eight' 'Quarter' 'Quarter' 'Quarter' 'Quarter' 'Half' 'Half'\n",
      " 'Half' 'Whole' 'Sixteenth' 'Half' 'Whole' 'Whole' 'Half' 'Quarter'\n",
      " 'Quarter' 'Whole' 'Whole' 'Whole' 'Whole' 'Sixteenth' 'Whole' 'Quarter'\n",
      " 'Half' 'Quarter' 'Quarter' 'Sixteenth' 'Sixteenth' 'Quarter' 'Half'\n",
      " 'Quarter' 'Whole' 'Half' 'Sixteenth' 'Eight' 'Eight' 'Quarter'\n",
      " 'Sixteenth' 'Sixteenth' 'Eight' 'Sixteenth' 'Quarter' 'Half' 'Sixteenth'\n",
      " 'Eight' 'Sixteenth' 'Half' 'Eight' 'Whole' 'Sixteenth' 'Sixteenth'\n",
      " 'Quarter' 'Sixteenth' 'Quarter' 'Eight' 'Eight' 'Whole' 'Quarter' 'Eight'\n",
      " 'Half' 'Eight' 'Whole' 'Whole' 'Half' 'Whole' 'Sixteenth' 'Half' 'Eight']\n",
      "['Eight', 'Whole', 'Whole', 'Quarter', 'Sixteenth', 'Eight', 'Eight', 'Eight', 'Sixteenth', 'Eight', 'Whole', 'Sixteenth', 'Eight', 'Sixteenth', 'Half', 'Whole', 'Eight', 'Sixteenth', 'Half', 'Eight', 'Whole', 'Sixteenth', 'Whole', 'Half', 'Half', 'Quarter', 'Whole', 'Sixteenth', 'Quarter', 'Half', 'Sixteenth', 'Eight', 'Eight', 'Half', 'Quarter', 'Quarter', 'Quarter', 'Half', 'Half', 'Half', 'Whole', 'Sixteenth', 'Half', 'Whole', 'Whole', 'Half', 'Whole', 'Whole', 'Whole', 'Whole', 'Whole', 'Whole', 'Sixteenth', 'Whole', 'Quarter', 'Whole', 'Quarter', 'Whole', 'Sixteenth', 'Sixteenth', 'Quarter', 'Sixteenth', 'Quarter', 'Quarter', 'Half', 'Half', 'Half', 'Sixteenth', 'Quarter', 'Sixteenth', 'Sixteenth', 'Eight', 'Sixteenth', 'Quarter', 'Half', 'Quarter', 'Eight', 'Sixteenth', 'Half', 'Eight', 'Whole', 'Sixteenth', 'Sixteenth', 'Quarter', 'Sixteenth', 'Whole', 'Eight', 'Eight', 'Whole', 'Half', 'Eight', 'Half', 'Eight', 'Whole', 'Whole', 'Whole', 'Whole', 'Sixteenth', 'Half', 'Eight']\n"
     ]
    },
    {
     "data": {
      "image/png": "[encoded data removed]",
      "text/plain": [
       "<Figure size 1728x1152 with 4 Axes>"
      ]
     },
     "metadata": {
      "needs_background": "light"
     },
     "output_type": "display_data"
    },
    {
     "data": {
      "text/plain": [
       "0.84"
      ]
     },
     "execution_count": 74,
     "metadata": {},
     "output_type": "execute_result"
    }
   ],
   "source": [
    "from sklearn.metrics import accuracy_score\n",
    "feature_vectors_test1=get_features(x_test,vocab)\n",
    "predictknn=knn.predict(feature_vectors_test1)\n",
    "print(predictknn)\n",
    "print(y_test)\n",
    "show_images([cv2.imread(x_test[0]),cv2.imread(x_test[1]),cv2.imread(x_test[2]),cv2.imread(x_test[3])])\n",
    "accuracy_score(y_test,predictknn)"
   ]
  },
  {
   "cell_type": "code",
   "execution_count": 75,
   "metadata": {},
   "outputs": [
    {
     "name": "stdout",
     "output_type": "stream",
     "text": [
      "1000\n",
      "1000\n",
      "1000\n",
      "1000\n",
      "1000\n",
      "Extract SIFT features\n",
      "accuracy: 78.4 %\n"
     ]
    }
   ],
   "source": [
    "train_image_paths,train_labels=get_image_paths(data_path, categories)\n",
    "random_seed = 10\n",
    "train_path, test_path, train_labels, test_labels = train_test_split(train_image_paths,train_labels, test_size=0.1, random_state=random_seed)\n",
    "vocab=build_vocabulary(x_train,vocab_size) \n",
    "#print(vocab)\n",
    "train_features=get_features(train_path,vocab)\n",
    "model=KNeighborsClassifier(n_neighbors=5)\n",
    "model.fit(train_features, train_labels)\n",
    "# Test the model on images it hasn't seen before\n",
    "test_features=get_features(test_path,vocab)\n",
    "accuracy = model.score(test_features, test_labels)\n",
    "print('accuracy:', accuracy*100, '%')"
   ]
  },
  {
   "cell_type": "code",
   "execution_count": null,
   "metadata": {},
   "outputs": [],
   "source": [
    "test_image_path=[\"test.jpg\",\"test2.jpg\",\"test3.jpg\",\"test4.jpg\"]\n",
    "feature_vectors_test1=get_features([\"test.jpg\"],vocab)\n",
    "feature_vectors_test2=get_features([\"test2.jpg\"],vocab)\n",
    "feature_vectors_test3=get_features([\"test3.jpg\"],vocab)\n",
    "feature_vectors_test4=get_features([\"test4.jpg\"],vocab)\n",
    "predictknn=knn.predict(feature_vectors_test1)\n",
    "print(predictknn)\n",
    "predictknn1=knn.predict(feature_vectors_test2)\n",
    "print(predictknn1)\n",
    "predictknn2=knn.predict(feature_vectors_test3)\n",
    "print(predictknn2)\n",
    "predictknn3=knn.predict(feature_vectors_test4)\n",
    "print(predictknn3)\n",
    "show_images([cv2.imread(\"test.jpg\"),cv2.imread(\"test2.jpg\"),cv2.imread(\"test3.jpg\"),cv2.imread(\"test4.jpg\")])"
   ]
  },
  {
   "cell_type": "code",
   "execution_count": 131,
   "metadata": {},
   "outputs": [
    {
     "name": "stdout",
     "output_type": "stream",
     "text": [
      "Extract SIFT features\n",
      "image_features\n"
     ]
    },
    {
     "data": {
      "text/plain": [
       "LinearSVC(random_state=10)"
      ]
     },
     "execution_count": 131,
     "metadata": {},
     "output_type": "execute_result"
    }
   ],
   "source": [
    "from sklearn.svm import LinearSVC\n",
    "random_seed = 10\n",
    "model = LinearSVC(random_state=random_seed)\n",
    "categories=[\"Eight\",\"Half\",\"Quarter\",\"Sixteenth\",\"Whole\"]\n",
    "num_train_per_cat=1000\n",
    "target_img_size = (100,100)\n",
    "vocab_size=25\n",
    "train_image_paths,train_labels=get_image_paths(data_path, categories, num_train_per_cat)\n",
    "\n",
    "x_train, x_test, y_train, y_test = train_test_split(train_image_paths,train_labels, test_size=100, random_state=10)\n",
    "#print(y_train)\n",
    "#print(train_labels)\n",
    "vocab=build_vocabulary(x_train,vocab_size)\n",
    "#print(vocab)\n",
    "image_features=get_features(x_train,vocab)\n",
    "print(\"image_features\")\n",
    "#print(image_features)\n",
    "model.fit(image_features,y_train)"
   ]
  },
  {
   "cell_type": "code",
   "execution_count": 132,
   "metadata": {},
   "outputs": [
    {
     "data": {
      "image/png": "[encoded data removed]",
      "text/plain": [
       "<Figure size 1728x1152 with 4 Axes>"
      ]
     },
     "metadata": {
      "needs_background": "light"
     },
     "output_type": "display_data"
    },
    {
     "data": {
      "text/plain": [
       "79"
      ]
     },
     "execution_count": 132,
     "metadata": {},
     "output_type": "execute_result"
    }
   ],
   "source": [
    "from sklearn.metrics import accuracy_score\n",
    "feature_vectors_test1=get_features(x_test,vocab)\n",
    "predictsvm=model.predict(feature_vectors_test1)\n",
    "#print(predictknn)\n",
    "#print(y_test)\n",
    "show_images([cv2.imread(x_test[0]),cv2.imread(x_test[1]),cv2.imread(x_test[2]),cv2.imread(x_test[3])])\n",
    "accuracy_score(y_test,predictsvm, normalize=False)"
   ]
  },
  {
   "cell_type": "code",
   "execution_count": null,
   "metadata": {},
   "outputs": [],
   "source": []
  }
 ],
 "metadata": {
  "kernelspec": {
   "display_name": "Python 3",
   "language": "python",
   "name": "python3"
  },
  "language_info": {
   "codemirror_mode": {
    "name": "ipython",
    "version": 3
   },
   "file_extension": ".py",
   "mimetype": "text/x-python",
   "name": "python",
   "nbconvert_exporter": "python",
   "pygments_lexer": "ipython3",
   "version": "3.8.3"
  }
 },
 "nbformat": 4,
 "nbformat_minor": 4
}
