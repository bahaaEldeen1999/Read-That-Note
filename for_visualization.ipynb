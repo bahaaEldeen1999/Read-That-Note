{
 "metadata": {
  "language_info": {
   "codemirror_mode": {
    "name": "ipython",
    "version": 3
   },
   "file_extension": ".py",
   "mimetype": "text/x-python",
   "name": "python",
   "nbconvert_exporter": "python",
   "pygments_lexer": "ipython3",
   "version": "3.8.3-final"
  },
  "orig_nbformat": 2,
  "kernelspec": {
   "name": "python38364bitbaseconda3c3175bcd2084ae1bcb835d8a511b4c8",
   "display_name": "Python 3.8.3 64-bit ('base': conda)",
   "language": "python"
  }
 },
 "nbformat": 4,
 "nbformat_minor": 2,
 "cells": [
  {
   "cell_type": "code",
   "execution_count": 16,
   "metadata": {},
   "outputs": [
    {
     "output_type": "display_data",
     "data": {
      "text/plain": "<Figure size 432x288 with 1 Axes>",
      "image/svg+xml": "<?xml version=\"1.0\" encoding=\"utf-8\" standalone=\"no\"?>\n<!DOCTYPE svg PUBLIC \"-//W3C//DTD SVG 1.1//EN\"\n  \"http://www.w3.org/Graphics/SVG/1.1/DTD/svg11.dtd\">\n<!-- Created with matplotlib (https://matplotlib.org/) -->\n<svg height=\"246.958125pt\" version=\"1.1\" viewBox=\"0 0 53.056 246.958125\" width=\"53.056pt\" xmlns=\"http://www.w3.org/2000/svg\" xmlns:xlink=\"http://www.w3.org/1999/xlink\">\n <defs>\n  <style type=\"text/css\">\n*{stroke-linecap:butt;stroke-linejoin:round;}\n  </style>\n </defs>\n <g id=\"figure_1\">\n  <g id=\"patch_1\">\n   <path d=\"M 0 246.958125 \nL 53.056 246.958125 \nL 53.056 0 \nL 0 0 \nz\n\" style=\"fill:none;\"/>\n  </g>\n  <g id=\"axes_1\">\n   <g clip-path=\"url(#p867fe598c5)\">\n    <image height=\"218\" id=\"image5cd3db6c9e\" transform=\"scale(1 -1)translate(0 -218)\" width=\"39\" x=\"7.2\" xlink:href=\"data:image/png;base64,\niVBORw0KGgoAAAANSUhEUgAAACcAAADaCAYAAAAlr1vyAAAABHNCSVQICAgIfAhkiAAAAfJJREFUeJzt272q4lAUQOF9x1ELUTE2voqgjVa+rI34GIJvYGkRFAUR/ONOZbjnDneKxZCkWKvb3UdOUpwN+YiIz6hpv6oG/CtxNHE0cTRxNHE0cTRxNHE0cTRxNHE0cTRxNHE0cTRxtN9fh263G81msypLnM/neL1exfwRX9auq9UqptNpFa6IiJjP57HZbIr5ryfX7/dLR71rNBrJXOt3ThxNHE0cTRxNHE0cTRxNHE0cTRxNHK3WuORSvd/vY7fbVWWJ2+2WzMk6YjgcRrvdLttUlOd5PB6PYk5w6/U6JpNJFa6IiJjNZj/vSjqdTvR6vdJR79yV/K/E0cTRxNHE0cTRxNHE0cTRxNHE0cTRao1Lbvyn0ynyPK/KEvf7PZmTXUmWZdFqtco2FR0Oh58XOcvlMsbjcRWuiIhYLBax3W6LOTnWLMtiNBqVjnr3/dRq/UGIo4mjiaOJo4mjiaOJo4mjiaOJo4mjiaMlN/7r9RqXy6UqS/JzUMS3XclgMKj076Xj8RjP57OYE1zdqvU7J44mjiaOJo4mjiaOJo4mjiaOJo4mjiaOJo4mjiaOJo4mjiaOJo4mjiaOJo4mjiaOJo4mjiaOJo4mjiaOJo4mjiaOJo4mjiaOJo4mjiaOJo4mjiaOJo4mjiaOJo4mjlZr3B/x5U5lYxvEBwAAAABJRU5ErkJggg==\" y=\"-21.758125\"/>\n   </g>\n   <g id=\"text_1\">\n    <!-- (1) -->\n    <defs>\n     <path d=\"M 31 75.875 \nQ 24.46875 64.65625 21.28125 53.65625 \nQ 18.109375 42.671875 18.109375 31.390625 \nQ 18.109375 20.125 21.3125 9.0625 \nQ 24.515625 -2 31 -13.1875 \nL 23.1875 -13.1875 \nQ 15.875 -1.703125 12.234375 9.375 \nQ 8.59375 20.453125 8.59375 31.390625 \nQ 8.59375 42.28125 12.203125 53.3125 \nQ 15.828125 64.359375 23.1875 75.875 \nz\n\" id=\"DejaVuSans-40\"/>\n     <path d=\"M 12.40625 8.296875 \nL 28.515625 8.296875 \nL 28.515625 63.921875 \nL 10.984375 60.40625 \nL 10.984375 69.390625 \nL 28.421875 72.90625 \nL 38.28125 72.90625 \nL 38.28125 8.296875 \nL 54.390625 8.296875 \nL 54.390625 0 \nL 12.40625 0 \nz\n\" id=\"DejaVuSans-49\"/>\n     <path d=\"M 8.015625 75.875 \nL 15.828125 75.875 \nQ 23.140625 64.359375 26.78125 53.3125 \nQ 30.421875 42.28125 30.421875 31.390625 \nQ 30.421875 20.453125 26.78125 9.375 \nQ 23.140625 -1.703125 15.828125 -13.1875 \nL 8.015625 -13.1875 \nQ 14.5 -2 17.703125 9.0625 \nQ 20.90625 20.125 20.90625 31.390625 \nQ 20.90625 42.671875 17.703125 53.65625 \nQ 14.5 64.65625 8.015625 75.875 \nz\n\" id=\"DejaVuSans-41\"/>\n    </defs>\n    <g transform=\"translate(18.028625 16.318125)scale(0.12 -0.12)\">\n     <use xlink:href=\"#DejaVuSans-40\"/>\n     <use x=\"39.013672\" xlink:href=\"#DejaVuSans-49\"/>\n     <use x=\"102.636719\" xlink:href=\"#DejaVuSans-41\"/>\n    </g>\n   </g>\n  </g>\n </g>\n <defs>\n  <clipPath id=\"p867fe598c5\">\n   <rect height=\"217.44\" width=\"38.656\" x=\"7.2\" y=\"22.318125\"/>\n  </clipPath>\n </defs>\n</svg>\n",
      "image/png": "[encoded data removed]"
     },
     "metadata": {
      "needs_background": "light"
     }
    },
    {
     "output_type": "stream",
     "name": "stdout",
     "text": [
      "0\n"
     ]
    }
   ],
   "source": [
    "from commonfunctions import *\n",
    "import skimage as sk\n",
    "import numpy as np\n",
    "import matplotlib as mp\n",
    "import scipy as sp\n",
    "from ipywidgets import interact, interactive, fixed, interact_manual\n",
    "import ipywidgets as widgets\n",
    "import os\n",
    "\n",
    "\n",
    "from commonfunctions import *\n",
    "import skimage as sk\n",
    "import numpy as np\n",
    "import matplotlib as mp\n",
    "import scipy as sp\n",
    "from ipywidgets import interact, interactive, fixed, interact_manual\n",
    "import ipywidgets as widgets\n",
    "import cv2 as cv\n",
    "from skimage.feature import hog\n",
    "from sklearn.svm import LinearSVC\n",
    "from sklearn.model_selection import train_test_split\n",
    "from sklearn.neighbors import KNeighborsClassifier\n",
    "import os\n",
    "import random\n",
    "\n",
    "\n",
    "def check_chord_or_beam(img_input, staff_space):\n",
    "    '''\n",
    "        **img is assumed to be binarized\n",
    "        returns:\n",
    "            0 --> chord\n",
    "            1 --> beam /16\n",
    "            2 --> beam /32\n",
    "           -1 --> neither\n",
    "    '''\n",
    "\n",
    "    se = sk.morphology.disk(staff_space//2)\n",
    "    img = sk.morphology.binary_opening(img_input, se)\n",
    "    img = sk.morphology.binary_erosion(img, se)\n",
    "    img = sk.morphology.binary_erosion(img)\n",
    "    se = sk.morphology.disk(staff_space//4)\n",
    "    img = sk.morphology.binary_dilation(img, se)\n",
    "    bounding_boxes = sk.measure.find_contours(img, 0.8)\n",
    "\n",
    "    if len(bounding_boxes) < 2:\n",
    "        return -1\n",
    "\n",
    "    newImg = img.copy()\n",
    "    centers, count_disks_spacing = [], 0\n",
    "\n",
    "    for box in bounding_boxes:\n",
    "        [Xmin, Xmax, Ymin, Ymax] = [np.min(box[:, 1]), np.max(\n",
    "            box[:, 1]), np.min(box[:, 0]), np.max(box[:, 0])]\n",
    "        rr, cc = sk.draw.rectangle(\n",
    "            start=(Ymin, Xmin), end=(Ymax, Xmax), shape=newImg.shape)\n",
    "        rr, cc = rr.astype(int), cc.astype(int)\n",
    "        newImg[rr, cc] = 1\n",
    "        centers.append([Ymin+Ymin//2, Xmin+Xmin//2])\n",
    "\n",
    "    for i in range(1, len(centers)):\n",
    "        if abs(centers[i][1] - centers[i-1][1]) > 70:\n",
    "            count_disks_spacing += 1\n",
    "\n",
    "    if count_disks_spacing != len(centers)-1:\n",
    "        return 0\n",
    "    \n",
    "    img = sk.img_as_bool(img_input)\n",
    "    img = sk.morphology.thin(img)\n",
    "\n",
    "    h, theta, d = sk.transform.hough_line(img)\n",
    "    angels= np.array([])\n",
    "    for _, angle, dist in zip(*sk.transform.hough_line_peaks(h, theta, d)):\n",
    "        angels=np.append(angels,np.rad2deg(angle))\n",
    "\n",
    "    number_of_lines = np.sum(np.abs(angels) > 10)\n",
    "    \n",
    "    if number_of_lines < 1 or number_of_lines > 2:\n",
    "        return -1\n",
    "    else:\n",
    "         return number_of_lines\n",
    "        \n",
    "\n",
    "# 1 & 3 & 4 & 5 --> 36\n",
    "# 2 --> 17\n",
    "img2 = io.imread(\"chord2.png\", as_gray=True)\n",
    "print(check_chord_or_beam(img2,17))"
   ]
  },
  {
   "cell_type": "code",
   "execution_count": null,
   "metadata": {},
   "outputs": [],
   "source": []
  }
 ]
}