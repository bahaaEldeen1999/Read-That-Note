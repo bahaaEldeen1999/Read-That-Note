{
 "cells": [
  {
   "cell_type": "markdown",
   "metadata": {},
   "source": [
    "# Lab - Classification\n",
    "\n",
    "In this lab, we are going to build a classification module. When given an image of a handwritten digit like the one below, the model will be able to tell which digit is in the image.\n"
   ]
  },
  {
   "cell_type": "code",
   "execution_count": 3,
   "metadata": {},
   "outputs": [],
   "source": [
    "from sklearn.neighbors import KNeighborsClassifier\n",
    "from sklearn.neural_network import MLPClassifier  # MLP is an NN\n",
    "from sklearn import svm\n",
    "import numpy as np\n",
    "import argparse\n",
    "import imutils  # If you are unable to install this library, ask the TA; we only need this in extract_hsv_histogram.\n",
    "import cv2\n",
    "import os\n",
    "import random\n",
    "\n",
    "\n",
    "# Depending on library versions on your system, one of the following imports \n",
    "from sklearn.model_selection import train_test_split\n",
    "#from sklearn.cross_validation import train_test_split"
   ]
  },
  {
   "cell_type": "code",
   "execution_count": 4,
   "metadata": {},
   "outputs": [],
   "source": [
    "path_to_dataset = r'datasets'\n",
    "target_img_size = (32, 32) # fix image size because classification algorithms THAT WE WILL USE HERE expect that\n",
    "\n",
    "# We are going to fix the random seed to make our experiments reproducible \n",
    "# since some algorithms use pseudorandom generators\n",
    "random_seed = 42  \n",
    "random.seed(random_seed)\n",
    "np.random.seed(random_seed)"
   ]
  },
  {
   "cell_type": "markdown",
   "metadata": {},
   "source": [
    "## Part I - Feature Extraction\n",
    "\n",
    "In this part, we are going to implement three functions. Each one will extract a different set of features from the image. The three sets are:\n",
    "\n",
    "1. Histogram of the pixel values features (this is the histogram you know, but on the HSV channels)\n",
    "2. Histogram of Gradients (HoG) features\n",
    "3. Raw pixels (basically, not doing any feature extraction and just supplying the input image to the classifier)"
   ]
  },
  {
   "cell_type": "code",
   "execution_count": 5,
   "metadata": {},
   "outputs": [],
   "source": [
    "from commonfunctions import *\n",
    "from matplotlib import pyplot as plt\n",
    "def extract_hsv_histogram(img):\n",
    "    \"\"\"\n",
    "    TODO\n",
    "    1. Resize the image to target_img_size using cv2.resize\n",
    "    2. Convert the image from BGR representation (cv2 is BGR not RGB) to HSV using cv2.cvtColor\n",
    "    3. Acquire the histogram using the cv2.calcHist. Apply the functions on the 3 channels. For the bins \n",
    "        parameter pass (8, 8, 8). For the ranges parameter pass ([0, 180, 0, 256, 0, 256]). Name the histogram\n",
    "        <hist>.\n",
    "    \"\"\"\n",
    "   # <your code goes here>\n",
    "    img = cv2.resize(img, target_img_size)\n",
    "    image = cv2.cvtColor(img, cv2.COLOR_BGR2HSV ) \n",
    "#    show_images([image])\n",
    "    hist= cv2.calcHist([image],[0,1,2],None,[180,256,256],[0, 180, 0, 256,0, 256])\n",
    "    \n",
    "    if imutils.is_cv2():\n",
    "        hist = cv2.normalize(hist)\n",
    "    else:\n",
    "        cv2.normalize(hist, hist)\n",
    "    return hist.flatten()  \n"
   ]
  },
  {
   "cell_type": "code",
   "execution_count": 6,
   "metadata": {},
   "outputs": [],
   "source": [
    "def extract_hog_features(img):\n",
    "    \"\"\"\n",
    "    TODO\n",
    "    You won't implement anything in this function. You just need to understand it \n",
    "    and understand its parameters (i.e win_size, cell_size, ... etc)\n",
    "    \"\"\"\n",
    "    img = cv2.resize(img, target_img_size)\n",
    "    win_size = (32, 32)\n",
    "    cell_size = (4, 4)\n",
    "    block_size_in_cells = (2, 2)\n",
    "    \n",
    "    block_size = (block_size_in_cells[1] * cell_size[1], block_size_in_cells[0] * cell_size[0])\n",
    "    block_stride = (cell_size[1], cell_size[0])\n",
    "    nbins = 9  # Number of orientation bins\n",
    "    hog = cv2.HOGDescriptor(win_size, block_size, block_stride, cell_size, nbins)\n",
    "    h = hog.compute(img)\n",
    "    h = h.flatten()\n",
    "    return h.flatten()"
   ]
  },
  {
   "cell_type": "code",
   "execution_count": 7,
   "metadata": {},
   "outputs": [],
   "source": [
    "def extract_raw_pixels(img):\n",
    "    \"\"\"\n",
    "    TODO\n",
    "    The classification algorithms we are going to use expect the input to be a vector not a matrix. \n",
    "    This is because they are general purpose and don't work only on images.\n",
    "    CNNs, on the other hand, expect matrices since they operate on images and exploit the \n",
    "    arrangement of pixels in the 2-D space.\n",
    "    \n",
    "    So, what we only need to do in this function is to resize and flatten the image.\n",
    "    \"\"\"\n",
    "    img = cv2.resize(img, target_img_size)\n",
    "    \n",
    "    return img.flatten()"
   ]
  },
  {
   "cell_type": "code",
   "execution_count": 8,
   "metadata": {},
   "outputs": [],
   "source": [
    "def extract_features(img, feature_set='hog'):\n",
    "    \n",
    "    \"\"\"\n",
    "    TODO\n",
    "    Given either 'hsv_hist', 'hog', 'raw', call the respective function and return its output\n",
    "    \"\"\"\n",
    "    if feature_set=='hsv_hist':\n",
    "        feature=extract_hsv_histogram(img)\n",
    "    elif feature_set=='hog':\n",
    "        feature=extract_hog_features(img)\n",
    "    else:\n",
    "        feature=extract_raw_pixels(img)\n",
    "            \n",
    "        \n",
    "    return feature"
   ]
  },
  {
   "cell_type": "markdown",
   "metadata": {},
   "source": [
    "The following function will extract the features and the label of each image in our dataset and save it in RAM. We normally don't save datasets in RAM, but this dataset is small."
   ]
  },
  {
   "cell_type": "code",
   "execution_count": 9,
   "metadata": {},
   "outputs": [],
   "source": [
    "features = []\n",
    "labels = []\n",
    "def load_dataset(feature_set='hog'):\n",
    "    features = []\n",
    "    labels = []\n",
    "    img_filenames = os.listdir(path_to_dataset)\n",
    "\n",
    "    for i, fn in enumerate(img_filenames):\n",
    "        if fn.split('.')[-1] != 'jpg':\n",
    "            continue\n",
    "\n",
    "        label = fn.split('.')[0]\n",
    "        labels.append(label)\n",
    "\n",
    "        path = os.path.join(path_to_dataset, fn)\n",
    "        img = cv2.imread(path)\n",
    "        features.append(extract_features(img, feature_set))\n",
    "        # show an update every 1,000 images\n",
    "        if i > 0 and i % 1000 == 0:\n",
    "            print(\"[INFO] processed {}/{}\".format(i, len(img_filenames)))\n",
    " \n",
    "        \n",
    "    return features, labels        "
   ]
  },
  {
   "cell_type": "markdown",
   "metadata": {},
   "source": [
    "## Part II - Classification\n",
    "\n",
    "In this part, we will test the classification performance of SVM, KNN, & NNs given our features."
   ]
  },
  {
   "cell_type": "code",
   "execution_count": 10,
   "metadata": {},
   "outputs": [],
   "source": [
    "# TODO understand the hyperparameters of each classifier\n",
    "classifiers = {\n",
    "    'SVM': svm.LinearSVC(random_state=random_seed),\n",
    "    'KNN': KNeighborsClassifier(n_neighbors=7),\n",
    "   # 'NN': MLPClassifier(solver='sgd', random_state=random_seed, hidden_layer_sizes=(500,), max_iter=20, verbose=1)\n",
    "}"
   ]
  },
  {
   "cell_type": "code",
   "execution_count": 11,
   "metadata": {},
   "outputs": [],
   "source": [
    "# This function will test all our classifiers on a specific feature set\n",
    "def run_experiment(feature_set):\n",
    "    \n",
    "    # Load dataset with extracted features\n",
    "    print('Loading dataset. This will take time ...')\n",
    "    features, labels = load_dataset(feature_set)\n",
    "#    print(features)\n",
    "#    print(labels)\n",
    "    print('Finished loading dataset.')\n",
    "    \n",
    "    # Since we don't want to know the performance of our classifier on images it has seen before\n",
    "    # we are going to withhold some images that we will test the classifier on after training \n",
    "    train_features, test_features, train_labels, test_labels = train_test_split(\n",
    "        features, labels, test_size=0.2, random_state=random_seed)\n",
    "    \n",
    "    for model_name, model in classifiers.items():\n",
    "        print('############## Training', model_name, \"##############\")\n",
    "        # Train the model only on the training features\n",
    "        model.fit(train_features, train_labels)\n",
    "        \n",
    "        # Test the model on images it hasn't seen before\n",
    "        accuracy = model.score(test_features, test_labels)\n",
    "        \n",
    "        print(model_name, 'accuracy:', accuracy*100, '%')"
   ]
  },
  {
   "cell_type": "markdown",
   "metadata": {},
   "source": [
    "Now, we see how each classifier and each feature set performs"
   ]
  },
  {
   "cell_type": "code",
   "execution_count": 12,
   "metadata": {},
   "outputs": [
    {
     "name": "stdout",
     "output_type": "stream",
     "text": [
      "Loading dataset. This will take time ...\n",
      "[INFO] processed 1000/1600\n",
      "Finished loading dataset.\n",
      "############## Training SVM ##############\n",
      "SVM accuracy: 99.375 %\n",
      "############## Training KNN ##############\n",
      "KNN accuracy: 97.8125 %\n"
     ]
    }
   ],
   "source": [
    "run_experiment('hog')\n"
   ]
  },
  {
   "cell_type": "markdown",
   "metadata": {},
   "source": [
    "The classifiers list now has models trained on the last feature set you ran an experiment on. You can play around with it checking the probability it gives to each label, given an image."
   ]
  },
  {
   "cell_type": "code",
   "execution_count": 13,
   "metadata": {},
   "outputs": [
    {
     "data": {
      "image/png": "[encoded data removed]",
      "text/plain": [
       "<Figure size 1728x1152 with 4 Axes>"
      ]
     },
     "metadata": {
      "needs_background": "light"
     },
     "output_type": "display_data"
    }
   ],
   "source": [
    "# Example\n",
    "test_img_path = r'test.jpg'\n",
    "test_img_path1 = r'test2.jpg'\n",
    "test_img_path2 = r'test3.jpg'\n",
    "test_img_path3 = r'test4.jpg'\n",
    "img = cv2.imread(test_img_path)\n",
    "img1 = cv2.imread(test_img_path1)\n",
    "img2 = cv2.imread(test_img_path2)\n",
    "img3 = cv2.imread(test_img_path3)\n",
    "show_images([img,img1,img2,img3])\n",
    "features = extract_features(img, 'hog')  # be careful of the choice of featu(re set\n",
    "features1 = extract_features(img1, 'hog')  # be careful of the choice of featu(re set\n",
    "features2 = extract_features(img2, 'hog')  # be careful of the choice of featu(re set\n",
    "features3 = extract_features(img3, 'hog')  # be careful of the choice of featu(re set"
   ]
  },
  {
   "cell_type": "code",
   "execution_count": 15,
   "metadata": {},
   "outputs": [
    {
     "name": "stdout",
     "output_type": "stream",
     "text": [
      "['## ']\n",
      "['&']\n",
      "['[']\n",
      "['a(1']\n"
     ]
    }
   ],
   "source": [
    "nn = classifiers['SVM']\n",
    "print(nn.predict([features]))\n",
    "print(nn.predict([features1]))\n",
    "print(nn.predict([features2]))\n",
    "print(nn.predict([features3]))"
   ]
  },
  {
   "cell_type": "markdown",
   "metadata": {},
   "source": [
    "Try to get a better accuracy by changing the model hyperparameters and retraining."
   ]
  },
  {
   "cell_type": "markdown",
   "metadata": {},
   "source": [
    "Well done! You have now finished the Image Processing & Computer Vision course. Study well for the final exam 😄. If you have any questions, don't hesitate to ask now."
   ]
  },
  {
   "cell_type": "code",
   "execution_count": null,
   "metadata": {},
   "outputs": [],
   "source": []
  },
  {
   "cell_type": "code",
   "execution_count": null,
   "metadata": {},
   "outputs": [],
   "source": []
  }
 ],
 "metadata": {
  "kernelspec": {
   "display_name": "Python 3",
   "language": "python",
   "name": "python3"
  },
  "language_info": {
   "codemirror_mode": {
    "name": "ipython",
    "version": 3
   },
   "file_extension": ".py",
   "mimetype": "text/x-python",
   "name": "python",
   "nbconvert_exporter": "python",
   "pygments_lexer": "ipython3",
   "version": "3.8.3"
  }
 },
 "nbformat": 4,
 "nbformat_minor": 2
}
