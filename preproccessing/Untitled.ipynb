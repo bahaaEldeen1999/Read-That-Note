{
 "cells": [
  {
   "cell_type": "code",
   "execution_count": 13,
   "metadata": {},
   "outputs": [],
   "source": [
    "from commonfunctions import *\n",
    "import skimage as sk \n",
    "import numpy as np\n",
    "import matplotlib as mp\n",
    "import scipy as sp"
   ]
  },
  {
   "cell_type": "code",
   "execution_count": 178,
   "metadata": {},
   "outputs": [
    {
     "data": {
      "image/png": "[encoded data removed]",
      "text/plain": [
       "<Figure size 432x288 with 1 Axes>"
      ]
     },
     "metadata": {
      "needs_background": "light"
     },
     "output_type": "display_data"
    },
    {
     "name": "stdout",
     "output_type": "stream",
     "text": [
      "peak 792\n",
      "0\n",
      "1\n",
      "2\n",
      "3\n",
      "4\n",
      "5\n",
      "6\n",
      "7\n",
      "8\n"
     ]
    },
    {
     "data": {
      "image/png": "[encoded data removed]",
      "text/plain": [
       "<Figure size 432x288 with 1 Axes>"
      ]
     },
     "metadata": {
      "needs_background": "light"
     },
     "output_type": "display_data"
    },
    {
     "data": {
      "image/png": "[encoded data removed]",
      "text/plain": [
       "<Figure size 432x288 with 1 Axes>"
      ]
     },
     "metadata": {
      "needs_background": "light"
     },
     "output_type": "display_data"
    }
   ],
   "source": [
    "img = sk.io.imread('test.jpg',as_gray=True)\n",
    "\n",
    "\n",
    "# noise removal \n",
    "#img = sk.filters.gaussian(img)\n",
    "#img = sk.filters.median(img)\n",
    "\n",
    "# rotate \n",
    "#img = sp.ndimage.interpolation.rotate(img, 30, reshape=True, order=0)\n",
    "\n",
    "# Equalization\n",
    "#img_eq = sk.exposure.equalize_hist(img)\n",
    "#img =  sk.feature.canny(img)\n",
    "#thresh \n",
    "t = sk.filters.threshold_otsu(img)\n",
    "\n",
    "img_b = img < t\n",
    "# skew correction\n",
    "\n",
    "def find_score(arr, angle):\n",
    "    data = sp.ndimage.interpolation.rotate(arr, angle, reshape=False, order=0)\n",
    "    hist = np.sum(data, axis=1)\n",
    "    score = np.sum((hist[1:] - hist[:-1]) ** 2)\n",
    "    return hist, score\n",
    "delta = 1\n",
    "limit = 30\n",
    "#angles = np.arange(-limit, limit+delta, delta)\n",
    "#scores = []\n",
    "#for angle in angles:\n",
    "#    hist, score = find_score(img_b, angle)\n",
    "#    scores.append(score)\n",
    "#best_score = max(scores)\n",
    "#best_angle = angles[scores.index(best_score)]\n",
    "#print('Best angle: '+str(best_angle))\n",
    "# correct skew\n",
    "#img_n = sp.ndimage.interpolation.rotate(img_b, best_angle, reshape=False, order=0)\n",
    "#img_thin = sk.morphology.thin(img_n,100)\n",
    "\n",
    "img_thin = sk.morphology.skeletonize(img_b == True)\n",
    "se = np.zeros((7,21))\n",
    "for i in range(21):\n",
    "    se[3,i] = 1\n",
    "\n",
    "\n",
    "#for i in range(10):\n",
    "#    img_thin = sk.morphology.dilation(img_n,se)\n",
    "#    img_thin = sk.morphology.erosion(img_n,se)\n",
    "\n",
    "#img_thin = sk.morphology.opening(img_thin)\n",
    "#fil =  [[-1,-1,-1],[2,2,2],[-1,-1,-1]]\n",
    "#img_thin = sp.signal.convolve2d(img_thin,fil)\n",
    "#t = sk.filters.threshold_otsu(img_thin)\n",
    "\n",
    "#img_thin = img_thin > t\n",
    "for i in range(5):\n",
    "   #img_thin = sk.morphology.dilation(img_thin,se)\n",
    "   img_thin = sk.morphology.erosion(img_thin,se)\n",
    "   #img_thin = sk.morphology.erosion(img_thin,se)\n",
    "   img_thin = sk.morphology.dilation(img_thin,se)\n",
    "   img_thin = sk.morphology.dilation(img_thin,se)\n",
    "\n",
    "#img_thin = sk.transform.rescale(img_thin, [3,1], anti_aliasing=True)\n",
    "#img_thin = sk.feature.canny(img_thin)\n",
    "#t = sk.filters.threshold_otsu(img_thin)\n",
    "\n",
    "#img_thin = img_thin < t\n",
    "show_images([img_thin])\n",
    "horz = np.sum(img_thin,axis=1)\n",
    "\n",
    "# Classic straight-line Hough transform\n",
    "# Set a precision of 0.5 degree.\n",
    "tested_angles = np.linspace(-np.pi / 2, np.pi / 2, 360)\n",
    "h, theta, d = sk.transform.hough_line(img_thin, theta=tested_angles)\n",
    "\n",
    "\n",
    "i=0\n",
    "\n",
    "origin = np.array((0, img_thin.shape[1]-1))\n",
    "'''\n",
    "for _, angle, dist in zip(*sk.transform.hough_line_peaks(h, theta, d)):\n",
    "    #print(dist)\n",
    "    try:\n",
    "        y0, y1 = (dist - origin * np.cos(angle)) / np.sin(angle)\n",
    "        y0 = int(y0)\n",
    "        y1 = int(y1)\n",
    "        dist = int(dist)\n",
    "        \n",
    "        if abs(y0 - y1) < 20:\n",
    "            rr, cc = sk.draw.line(dist,0,dist,origin[1])\n",
    "            \n",
    "            img_thin[rr,cc] = False\n",
    "            i +=1\n",
    "    except:\n",
    "        i += 1\n",
    "        continue\n",
    "\n",
    "\n",
    "'''\n",
    "peak = np.max(horz)\n",
    "nums= np.arange(start=0, stop=img_thin.shape[0], step=1)\n",
    "#print(nums,horz)\n",
    "plt.figure()\n",
    "mp.pyplot.barh(nums, horz)\n",
    "print(\"peak \"+str(peak))\n",
    "j=0\n",
    "img_lines = np.uint8(np.zeros((img_thin.shape[0],img_thin.shape[1],3)))\n",
    "for x in horz:\n",
    "    #print(\"x \"+str(x))\n",
    "    if peak-x < 150 : \n",
    "        print(j)\n",
    "        rr, cc = sk.draw.line(i,0,i,origin[1])\n",
    "        img_thin[rr,cc] = True\n",
    "        img_lines[rr,cc] = [0,255,0]\n",
    "        #rr, cc = sk.draw.line(i+1,0,i+1,origin[1])\n",
    "        #img_lines[rr,cc] = [0,255,0]\n",
    "        #rr, cc = sk.draw.line(i+2,0,i+2,origin[1])\n",
    "        #img_lines[rr,cc] = [0,0,255]\n",
    "        j+=1\n",
    "    i +=1\n",
    "\n",
    "#print(img_lines)\n",
    "#show_images([img,img_eq,img_b,img_n,img_thin])\n",
    "show_images([img_lines])"
   ]
  },
  {
   "cell_type": "code",
   "execution_count": null,
   "metadata": {},
   "outputs": [],
   "source": []
  }
 ],
 "metadata": {
  "kernelspec": {
   "display_name": "Python 3",
   "language": "python",
   "name": "python3"
  },
  "language_info": {
   "codemirror_mode": {
    "name": "ipython",
    "version": 3
   },
   "file_extension": ".py",
   "mimetype": "text/x-python",
   "name": "python",
   "nbconvert_exporter": "python",
   "pygments_lexer": "ipython3",
   "version": "3.8.3"
  }
 },
 "nbformat": 4,
 "nbformat_minor": 4
}
