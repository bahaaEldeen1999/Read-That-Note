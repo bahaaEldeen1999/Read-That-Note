{
 "cells": [
  {
   "cell_type": "code",
   "execution_count": 266,
   "metadata": {},
   "outputs": [],
   "source": [
    "from commonfunctions import *\n",
    "import skimage as sk \n",
    "import numpy as np\n",
    "import matplotlib as mp\n",
    "import scipy as sp\n",
    "from ipywidgets import interact, interactive, fixed, interact_manual\n",
    "import ipywidgets as widgets"
   ]
  },
  {
   "cell_type": "code",
   "execution_count": 404,
   "metadata": {
    "scrolled": false
   },
   "outputs": [
    {
     "name": "stdout",
     "output_type": "stream",
     "text": [
      "Best angle: 0.0\n"
     ]
    },
    {
     "data": {
      "image/png": "[encoded data removed]",
      "text/plain": [
       "<Figure size 432x288 with 1 Axes>"
      ]
     },
     "metadata": {
      "needs_background": "light"
     },
     "output_type": "display_data"
    },
    {
     "data": {
      "image/png": "[encoded data removed]",
      "text/plain": [
       "<Figure size 432x288 with 1 Axes>"
      ]
     },
     "metadata": {
      "needs_background": "light"
     },
     "output_type": "display_data"
    },
    {
     "name": "stdout",
     "output_type": "stream",
     "text": [
      "[11, 55, 76, 120, 141, 185, 206, 250]\n"
     ]
    },
    {
     "data": {
      "application/vnd.jupyter.widget-view+json": {
       "model_id": "8a498a8c6f7f41779792868351f70c08",
       "version_major": 2,
       "version_minor": 0
      },
      "text/plain": [
       "interactive(children=(IntSlider(value=10, description='x', max=300), Output()), _dom_classes=('widget-interact…"
      ]
     },
     "metadata": {},
     "output_type": "display_data"
    },
    {
     "data": {
      "image/png": "[encoded data removed]",
      "text/plain": [
       "<Figure size 864x576 with 2 Axes>"
      ]
     },
     "metadata": {
      "needs_background": "light"
     },
     "output_type": "display_data"
    }
   ],
   "source": [
    "img = sk.io.imread('test2.png',as_gray=True)\n",
    "img = img.astype(np.float64) / np.max(img) \n",
    "img = 255 * img \n",
    "img = img.astype(np.uint8)\n",
    "\n",
    "    \n",
    "    \n",
    "    \n",
    "def binarize(img,block_size = 35):\n",
    "    t = sk.filters.threshold_local(img, block_size, offset=10)\n",
    "    img_b = img < t\n",
    "    return img_b\n",
    "\n",
    "\n",
    "def deskew(img,delta=1,limit=60):\n",
    "    def find_score(arr, angle):\n",
    "        data = sp.ndimage.interpolation.rotate(arr, angle, reshape=False, order=0)\n",
    "        hist = np.sum(data, axis=1)\n",
    "        score = np.sum((hist[1:] - hist[:-1]) ** 2)\n",
    "        return hist, score\n",
    "    delta = .5\n",
    "    limit = 30\n",
    "    angles = np.arange(-limit, limit+delta, delta)\n",
    "    scores = []\n",
    "    for angle in angles:\n",
    "       hist, score = find_score(img, angle)\n",
    "       scores.append(score)\n",
    "    best_score = max(scores)\n",
    "    best_angle = angles[scores.index(best_score)]\n",
    "    print('Best angle: '+str(best_angle))\n",
    "    #correct skew\n",
    "    img_n = sp.ndimage.interpolation.rotate(img, best_angle, reshape=False, order=0)\n",
    "    return img_n\n",
    "\n",
    "\n",
    "\n",
    "\n",
    "def line_detection(img):\n",
    "    \n",
    "    bounding_boxes = sk.measure.find_contours(img,0.8)\n",
    "    newImg = np.zeros(img.shape)\n",
    "    lines = []\n",
    "    for box in bounding_boxes:\n",
    "        [Xmin, Xmax, Ymin, Ymax] = [ np.min(box[:,1]),np.max(box[:,1]),np.min(box[:,0]),np.max(box[:,0]) ]\n",
    "        Ymin -= 2\n",
    "        Ymax += 2\n",
    "        ar =  (Xmax-Xmin)/(Ymax-Ymin)\n",
    "        if ( ( ar > 5)):\n",
    "            rr, cc = sk.draw.rectangle(start = (Ymin,Xmin), end = (Ymax,Xmax), shape=newImg.shape)\n",
    "            rr = rr.astype(int)\n",
    "            cc = cc.astype(int)\n",
    "            newImg[rr, cc] = True \n",
    "            \n",
    "            #lines.append(int(Ymin))\n",
    "            #lines.append(int(Ymax))\n",
    "            #print(\"sdsd\")\n",
    "    show_images([newImg])    \n",
    "    bounding_boxes = sk.measure.find_contours(newImg,0.8)\n",
    "    newImg = np.zeros(img.shape)\n",
    "    lines = []\n",
    "    for box in bounding_boxes:\n",
    "        [Xmin, Xmax, Ymin, Ymax] = [ np.min(box[:,1]),np.max(box[:,1]),np.min(box[:,0]),np.max(box[:,0]) ]\n",
    "        Ymin -= 2\n",
    "        Ymax += 2\n",
    "        ar =  (Xmax-Xmin)/(Ymax-Ymin)\n",
    "        if ( ( ar > 5)):\n",
    "            rr, cc = sk.draw.rectangle(start = (Ymin,Xmin), end = (Ymax,Xmax), shape=newImg.shape)\n",
    "            rr = rr.astype(int)\n",
    "            cc = cc.astype(int)\n",
    "            newImg[rr, cc] = True \n",
    "\n",
    "        lines.append(int(Ymin))\n",
    "        lines.append(int(Ymax))\n",
    "            #print(\"sdsd\")\n",
    "    show_images([newImg])\n",
    "#     lines = np.sort(lines)\n",
    "#     print(lines)\n",
    "#     l = [lines[0]]\n",
    "#     for i in range(1,len(lines)):\n",
    "#         if lines[i]-lines[i-1] < 3:\n",
    "#             continue\n",
    "#         elif i == len(lines)-1:\n",
    "#             l.append(lines[i])\n",
    "#         else:\n",
    "#             l.append(lines[i-1])\n",
    "#             l.append(lines[i])\n",
    "            \n",
    "            \n",
    "    return lines\n",
    " \n",
    "def convertToLineSpace(row,lines):\n",
    "    if row < lines[0]:\n",
    "        return (-1,-1)\n",
    "    if row == lines[0]:\n",
    "        return (0,0)\n",
    "    for i in range(1,len(lines)):\n",
    "        if row == lines[i]:\n",
    "            if i%2 == 0:\n",
    "                return (5*(i)//2,5*(i)//2)\n",
    "            else:\n",
    "                return (5*((i)//2) + 4,5*((i)//2) + 4)\n",
    "        if row < lines[i] and row > lines[i-1]:\n",
    "            x = (lines[i]-lines[i-1])/3\n",
    "            y = int((row-lines[i-1])/x)\n",
    "            if i%2 == 1:                \n",
    "                return ((5*((i-1)//2))+y,(5*((i-1)//2))+y+1)\n",
    "            else:\n",
    "                return (5*((i-2)//2) + 4,5*((i-2)//2) + 5)\n",
    "    return (5*len(lines),5*len(lines))\n",
    "\n",
    "\n",
    "img = binarize(img)\n",
    "img = deskew(img,0.5)\n",
    "img_thin = sk.morphology.skeletonize(img == True)\n",
    "\n",
    "\n",
    "w  = 5\n",
    "se = np.zeros((1,int(img.shape[1]*0.25)))\n",
    "se1 = np.ones((3,2*w))\n",
    "for i in range(se.shape[1]):\n",
    "    se[0,i] = 1\n",
    "\n",
    "\n",
    "#img_thin = img_thin > t\n",
    "for i in range(1):\n",
    "   img_thin = sk.morphology.dilation(img_thin,se1)\n",
    "   img_thin = sk.morphology.dilation(img_thin,se1)\n",
    "\n",
    "#img_thin = sk.morphology.skeletonize(img_thin == True)\n",
    "img_thin = sk.morphology.closing(img_thin)\n",
    "\n",
    "\n",
    "#img_lines,lines = line_detection(img_thin)\n",
    "img_thin = sk.morphology.erosion(img_thin,se,shift_x=False, shift_y=False)\n",
    "lines = line_detection(img_thin)\n",
    "print((lines))\n",
    "def f(x):\n",
    "    #pass\n",
    "    global lines\n",
    "    print(convertToLineSpace(x,lines))\n",
    "interact(f, x=widgets.IntSlider(min=0, max=300, step=1, value=10));\n",
    "\n",
    "show_images([img,img_thin])\n"
   ]
  },
  {
   "cell_type": "code",
   "execution_count": null,
   "metadata": {},
   "outputs": [],
   "source": []
  }
 ],
 "metadata": {
  "kernelspec": {
   "display_name": "Python 3",
   "language": "python",
   "name": "python3"
  },
  "language_info": {
   "codemirror_mode": {
    "name": "ipython",
    "version": 3
   },
   "file_extension": ".py",
   "mimetype": "text/x-python",
   "name": "python",
   "nbconvert_exporter": "python",
   "pygments_lexer": "ipython3",
   "version": "3.8.3"
  }
 },
 "nbformat": 4,
 "nbformat_minor": 4
}
